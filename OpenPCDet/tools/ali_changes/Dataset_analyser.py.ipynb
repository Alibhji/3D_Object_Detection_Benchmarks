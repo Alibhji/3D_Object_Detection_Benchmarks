{
 "cells": [
  {
   "cell_type": "code",
   "execution_count": 11,
   "metadata": {
    "collapsed": true
   },
   "outputs": [
    {
     "name": "stdout",
     "output_type": "stream",
     "text": [
      "./cfgs/kitti_models/my_pointrcnn.yaml\n"
     ]
    }
   ],
   "source": [
    "class Struct:\n",
    "    def __init__(self, **entries):\n",
    "        self.__dict__.update(entries)\n",
    "\n",
    "args = {'cfg_file': './cfgs/kitti_models/my_pointrcnn.yaml', 'batch_size': 1, 'epochs': None, 'workers': 1, 'extra_tag': 'default', 'ckpt': None, 'pretrained_model': None, 'launcher': 'none', 'tcp_port': 18888, 'sync_bn': False, 'fix_random_seed': False, 'ckpt_save_interval': 1, 'local_rank': 0, 'max_ckpt_save_num': 30, 'merge_all_iters_to_one_epoch': False, 'set_cfgs': None, 'max_waiting_mins': 0, 'start_epoch': 0, 'save_to_file': False}\n",
    "\n",
    "args = Struct(**args)\n",
    "print(args.cfg_file)\n",
    "\n",
    "from pcdet.datasets import build_dataloader\n",
    "\n",
    "# train_set, train_loader, train_sampler = build_dataloader(\n",
    "#         dataset_cfg=cfg.DATA_CONFIG,\n",
    "#         class_names=cfg.CLASS_NAMES,\n",
    "#         batch_size=args.batch_size,\n",
    "#         dist=dist_train, workers=args.workers,\n",
    "#         logger=logger,\n",
    "#         training=True,\n",
    "#         merge_all_iters_to_one_epoch=args.merge_all_iters_to_one_epoch,\n",
    "#         total_epochs=args.epochs\n",
    "#     )\n"
   ]
  }
 ],
 "metadata": {
  "kernelspec": {
   "display_name": "Python 3",
   "language": "python",
   "name": "python3"
  },
  "language_info": {
   "codemirror_mode": {
    "name": "ipython",
    "version": 2
   },
   "file_extension": ".py",
   "mimetype": "text/x-python",
   "name": "python",
   "nbconvert_exporter": "python",
   "pygments_lexer": "ipython2",
   "version": "2.7.6"
  }
 },
 "nbformat": 4,
 "nbformat_minor": 0
}